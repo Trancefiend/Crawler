{
 "cells": [
  {
   "cell_type": "code",
   "execution_count": 1,
   "metadata": {},
   "outputs": [],
   "source": [
    "import urllib3\n",
    "import certifi\n",
    "import re\n",
    "from time import sleep\n",
    "from bs4 import BeautifulSoup"
   ]
  },
  {
   "cell_type": "code",
   "execution_count": 2,
   "metadata": {},
   "outputs": [
    {
     "name": "stdout",
     "output_type": "stream",
     "text": [
      "Artist's name: neptune project\n"
     ]
    }
   ],
   "source": [
    "artist = input(\"Artist's name: \")\n",
    "url_artist = re.sub(r'\\W+', '', artist)\n",
    "url = 'https://www.1001tracklists.com/dj/' + url_artist + '/index.html'"
   ]
  },
  {
   "cell_type": "code",
   "execution_count": 3,
   "metadata": {},
   "outputs": [],
   "source": [
    "http = urllib3.PoolManager(\n",
    "    cert_reqs='CERT_REQUIRED',\n",
    "    ca_certs=certifi.where())\n",
    "\n",
    "response = http.request('GET', url)\n",
    "soup = BeautifulSoup(response.data, 'html.parser')"
   ]
  },
  {
   "cell_type": "code",
   "execution_count": 4,
   "metadata": {},
   "outputs": [],
   "source": [
    "link_box = soup.find_all('div', attrs={'class', 'tlLink'})"
   ]
  },
  {
   "cell_type": "code",
   "execution_count": 5,
   "metadata": {},
   "outputs": [],
   "source": [
    "link_list = []\n",
    "for links in link_box:\n",
    "    links = str(links)\n",
    "    head, sep, tail = links.rpartition('\">')\n",
    "    head1, sep1, tail1 = head.partition('href=\"')\n",
    "    url_tracks = 'https://www.1001tracklists.com' + tail1\n",
    "    link_list.append(url_tracks)"
   ]
  },
  {
   "cell_type": "code",
   "execution_count": 6,
   "metadata": {},
   "outputs": [],
   "source": [
    "name_list = []\n",
    "for link in link_list:\n",
    "    tracklist_response = http.request('GET', link)\n",
    "    track_soup = BeautifulSoup(tracklist_response.data, 'html.parser')\n",
    "    name_box = track_soup.find_all('div', attrs={'class', 'tlToogleData'})\n",
    "    sleep(5)\n",
    "    for names in name_box:\n",
    "        name_list.append(names.text.strip())"
   ]
  },
  {
   "cell_type": "code",
   "execution_count": 7,
   "metadata": {},
   "outputs": [],
   "source": [
    "song_list = []\n",
    "song_edits = []\n",
    "for name in name_list:\n",
    "    head, sep, tail = name.partition('  [')\n",
    "    song_list.append(head)\n",
    "\n",
    "for songs in song_list:\n",
    "    head, sep, tail = songs.partition('   \\n')\n",
    "    song_edits.append(head)\n",
    "    \n",
    "song_edits = [f.replace('\\xa0', ' ') for f in song_edits]"
   ]
  },
  {
   "cell_type": "code",
   "execution_count": 8,
   "metadata": {
    "scrolled": true
   },
   "outputs": [],
   "source": [
    "import codecs\n",
    "file = codecs.open(str(artist)+'.txt', 'w', 'utf-8')\n",
    "for val in song_edits:\n",
    "    var1 = val.split(',');\n",
    "    file.write('%s\\n' % var1)\n",
    "file.close()"
   ]
  },
  {
   "cell_type": "code",
   "execution_count": null,
   "metadata": {},
   "outputs": [],
   "source": []
  }
 ],
 "metadata": {
  "kernelspec": {
   "display_name": "Python 3",
   "language": "python",
   "name": "python3"
  },
  "language_info": {
   "codemirror_mode": {
    "name": "ipython",
    "version": 3
   },
   "file_extension": ".py",
   "mimetype": "text/x-python",
   "name": "python",
   "nbconvert_exporter": "python",
   "pygments_lexer": "ipython3",
   "version": "3.6.5"
  }
 },
 "nbformat": 4,
 "nbformat_minor": 2
}
